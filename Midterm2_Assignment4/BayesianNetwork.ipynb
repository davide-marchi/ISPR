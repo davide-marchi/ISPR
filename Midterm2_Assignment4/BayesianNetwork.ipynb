{
 "cells": [
  {
   "cell_type": "markdown",
   "metadata": {},
   "source": [
    "# Davide Marchi\n",
    "## Assignment 4 - Bayesian Network (BN)\n",
    "_Implement a Bayesian Network (BN) comprising at least 10 nodes, all with binomial or multinomial distribution. Represent the BN with the data structures that you deem appropriate and in the programming language that you prefer. The BN should model some problem/process of your choice, so you are also free to define the topology according to your prior knowledge (just be ready to justify your choices). [...]<br>\n",
    "Once you have modelled the BN, also plug in the necessary local conditional probability tables. You can set the values of the probabilities following your own intuition on the problem (ie no need to learn them from data). Then run some episoded of Ancestral Sampling on the BN and discuss the results.[...]_"
   ]
  },
  {
   "cell_type": "markdown",
   "metadata": {},
   "source": [
    "### Imported modules\n",
    "The realization of the Bayesian Network starts by importing two necessary modules: `random` and `itertools`:<br>\n",
    "The first one will be needed to randomly generate the samples during ancestral sampling with the function `random()`, while `itertools` will be usuful to create a list of all the possible permutations of the states of the parents of a node with `product()`."
   ]
  },
  {
   "cell_type": "code",
   "execution_count": 177,
   "metadata": {},
   "outputs": [],
   "source": [
    "# Import librarires\n",
    "import random\n",
    "import itertools"
   ]
  },
  {
   "cell_type": "markdown",
   "metadata": {},
   "source": [
    "### Bayesian Network class\n",
    "I have then implemented the `BayesianNetwork` class, which represents a Directed Acyclic Graph (DAG) whose nodes are random variables and the edges describe the conditional independence relationships.\n",
    "\n",
    "The nodes are stored in the network as a dictionary (`self.nodes`) where the keys are the names of the nodes and the values are dictionaries that contain the node's essential information.\n",
    "\n",
    "The values of the `self.nodes` dictionaries are dictionaries that contain the following keys:\n",
    "- `states`: Corresponds to a list of the possible states that the node can take.\n",
    "- `parents`: Corresponds to a list of the node's parent nodes.\n",
    "- `cpt`: Corresponds to the node's Conditional Probability Table (CPT).\n",
    "\n",
    "It's important to note that the CPTs are dictionaries too:\n",
    "- The keys of a CPT dictionary are tuples representing the states of the parents nodes. If a node has no parents, the key will be an empty tuple `()`.\n",
    "- The values of the CPT dictionary are lists representing the probabilities of the node's states (given the parents' states). The order of the probabilities in the list corresponds to the order of the states in the node's states list.\n",
    "\n",
    "This structure is based on nested dictionaries, which may appear confusing initially, but they enable efficient lookups and modifications of the nodes, thanks to their implementation as hash maps. Furthermore, later in the notebook, an instance of `BayesianNetwork` will be created and printed to provide further clarification."
   ]
  },
  {
   "cell_type": "code",
   "execution_count": 178,
   "metadata": {},
   "outputs": [],
   "source": [
    "# Define the Bayesian Network class\n",
    "class BayesianNetwork:\n",
    "    def __init__(self):\n",
    "        self.nodes = {}\n",
    "    \n",
    "    # Add a node to the network after checking for validity\n",
    "    def add_node(self, name, states, cpt, parents=[]):\n",
    "\n",
    "        # Check if the node already exists in the network\n",
    "        if name in self.nodes:\n",
    "            print(f\"Node '{name}' already exists in the network.\")\n",
    "            return\n",
    "        \n",
    "        # Check if the node has at least one state\n",
    "        if len(states) == 0:\n",
    "            print(f\"Node '{name}' must have at least one state.\")\n",
    "            return\n",
    "        \n",
    "        # Check if all parent nodes exist in the network\n",
    "        for parent in parents:\n",
    "            if parent not in self.nodes:\n",
    "                print(f\"Parent node '{parent}' does not exist in the network.\")\n",
    "                return\n",
    "\n",
    "        # Check if the Condition Probability Table is valid\n",
    "        for parent_combination in itertools.product(*[self.nodes[parent]['states'] for parent in parents]):\n",
    "\n",
    "            # Check if all the possible permutations of the states of the parent nodes are in the CPT\n",
    "            # Check if each entry in the cpt has the corrent number of probabilities and the sum of the probabilities is 1\n",
    "            # Note: round(sum(cpt[parent_combination]), 10) is used to avoid floating point errors\n",
    "            if parent_combination not in cpt or len(cpt[parent_combination]) != len(states) or round(sum(cpt[parent_combination]), 10) != 1:\n",
    "                print(f\"Invalid CPT for node '{name}'.\")\n",
    "                return\n",
    "\n",
    "        # Add the node to the network\n",
    "        self.nodes[name] = {'states': states, 'parents': parents, 'cpt': cpt}\n",
    "    \n",
    "    # Retrieve the probability of a state of a node given its parents' states\n",
    "    def probability(self, node, parent_states, state):\n",
    "        states = self.nodes[node]['states']\n",
    "        return self.nodes[node]['cpt'][parent_states][states.index(state)]\n",
    "    \n",
    "    # Sample a state for a node given its parents' states\n",
    "    def sample(self, node, parent_states):\n",
    "\n",
    "        # Generating a random value and collecting the possible states of the node\n",
    "        p = random.random()\n",
    "        cumulative_prob = 0\n",
    "        states = self.nodes[node]['states']\n",
    "\n",
    "        # Loop through the possible states of the node and retrieve the probability of each state\n",
    "        for state in states:\n",
    "            probability = self.probability(node, parent_states, state)\n",
    "            cumulative_prob += probability\n",
    "\n",
    "            # Return the state and its probability if the random value is less than the cumulative probability (= if the state is selected)\n",
    "            if p <= cumulative_prob:\n",
    "                return state, probability\n",
    "    \n",
    "    # Sample states for all nodes knowing their parents' states\n",
    "    def sample_states(self):\n",
    "        sampled_states = {}\n",
    "        joint_probability = 1\n",
    "\n",
    "        # Loop through all nodes (in a topological order) and sample the state of each node\n",
    "        for node in self.nodes:\n",
    "            parents = self.nodes[node]['parents']\n",
    "            parent_states = tuple(sampled_states[parent] for parent in parents)\n",
    "            sampled_states[node], probaility = self.sample(node, parent_states)\n",
    "            joint_probability *= probaility\n",
    "\n",
    "        # Return the sampled states saved in a dictionary and the joint probability\n",
    "        return sampled_states, joint_probability"
   ]
  },
  {
   "cell_type": "markdown",
   "metadata": {},
   "source": [
    "Note that while adding a node to the network, several checks are performed to preserve the proper behavior of the BN.<br>\n",
    "The name is checked to ensure it is unique, the CPT must have proper values (the correct number of probabilities and their sum must be equals to 1), and most importantly, I check if all the possible permutations of the states of the parents are present (as tuples) as keys of the CPT.\n",
    "\n",
    "Furthermore, checking if the parents are already present in the network rquires the user to insert them following a __topological order__. This allows to perform ancestral sampling of the node just by sampling each one at a time from the `nodes` list without having to rearrange them, because each node will be automatically sampled before its descendants."
   ]
  },
  {
   "cell_type": "markdown",
   "metadata": {},
   "source": [
    "### Network example\n",
    "To show the functionality of the presented implementation, here is an example of a possible object of the `BayesianNetwork` class.<br>\n",
    "I decided to test the class by modeling the Bayesian Network to estimate the overall enjoyment of a concert by the attendees based on the states of some correlated variables.\n",
    "\n",
    "Below is the graph we are going to implement:\n",
    "![DAG_Concert_Enjoyment.png](DAG_Concert_Enjoyment.png)\n",
    "\n",
    "The first step, of course, is to instantiate an object of the `BayesianNetwork` class:"
   ]
  },
  {
   "cell_type": "code",
   "execution_count": 179,
   "metadata": {},
   "outputs": [],
   "source": [
    "# Define the Bayesian Network for concert enjoyment\n",
    "concert_bn = BayesianNetwork()"
   ]
  },
  {
   "cell_type": "markdown",
   "metadata": {},
   "source": [
    "The folling step consists in adding nodes to the network with their respective Conditional Probability Tables.<br>\n",
    "The topology can be implemented and explained as follow:\n",
    "\n",
    "1. **MusicGenre**:\n",
    "- Represents the type of music being played at the concert, such as Pop, Rock, or Jazz.\n",
    "- Independent variable, as it's determined by the organizers or performers' preferences rather than external factors."
   ]
  },
  {
   "cell_type": "code",
   "execution_count": 180,
   "metadata": {},
   "outputs": [],
   "source": [
    "# Node: MusicGenre\n",
    "concert_bn.add_node('MusicGenre', ['Pop', 'Rock', 'Jazz'], \n",
    "                    {\n",
    "                        (): [0.5, 0.3, 0.2]\n",
    "                    })"
   ]
  },
  {
   "cell_type": "markdown",
   "metadata": {},
   "source": [
    "2. **ArtistFame**:\n",
    "- Indicates the level of fame of the performing artist, categorized as Unknown, Known, or Superstar.\n",
    "- Independent variable, as it's typically known before the concert and doesn't rely on other factors within the Bayesian Network."
   ]
  },
  {
   "cell_type": "code",
   "execution_count": 181,
   "metadata": {},
   "outputs": [],
   "source": [
    "# Node: ArtitstFame\n",
    "concert_bn.add_node('ArtistFame', ['Unknown', 'Known', 'Superstar'], \n",
    "                    {\n",
    "                        (): [0.3, 0.5, 0.2]\n",
    "                    })"
   ]
  },
  {
   "cell_type": "markdown",
   "metadata": {},
   "source": [
    "3. **ArtistPerformance**:\n",
    "- Reflects the quality of the artist's performance, categorized as Poor, Average, or Excellent.\n",
    "- Depends on the ArtistFame variable, as we expect a better performance from artists who are more notorious and popular."
   ]
  },
  {
   "cell_type": "code",
   "execution_count": 182,
   "metadata": {},
   "outputs": [],
   "source": [
    "# Node: ArtistPerformance\n",
    "concert_bn.add_node('ArtistPerformance', ['Poor', 'Average', 'Excellent'], \n",
    "                    {\n",
    "                        ('Unknown',): [0.5, 0.4, 0.1],\n",
    "                        ('Known',): [0.3, 0.5, 0.2],\n",
    "                        ('Superstar',): [0.1, 0.2, 0.7]\n",
    "                    },\n",
    "                    parents=['ArtistFame'])"
   ]
  },
  {
   "cell_type": "markdown",
   "metadata": {},
   "source": [
    "4. **VenueAtmosphere**:\n",
    "- Describes the atmosphere of the concert venue, characterized as Dull, Energetic, or Electrifying.\n",
    "- Depends on the MusicGenre variable, as different music genres often evoke different atmospheres within concert venues. (Jazz, for example, leaves a lot of space for improvisation. This can be both spectacular and risky, especially if the improvisation doesn't turn out well)."
   ]
  },
  {
   "cell_type": "code",
   "execution_count": 183,
   "metadata": {},
   "outputs": [],
   "source": [
    "# Node: VenueAtmosphere\n",
    "concert_bn.add_node('VenueAtmosphere', ['Dull', 'Energetic', 'Electrifying'], \n",
    "                    {\n",
    "                        ('Rock',): [0.1, 0.4, 0.5],\n",
    "                        ('Jazz',): [0.4, 0.2, 0.4],\n",
    "                        ('Pop',): [0.1, 0.6, 0.3]\n",
    "                    },\n",
    "                    parents=['MusicGenre'])"
   ]
  },
  {
   "cell_type": "markdown",
   "metadata": {},
   "source": [
    "5. **CrowdExcitement**:\n",
    "- Indicates the excitement level of the attending crowd, classified as Low, Moderate, or High.\n",
    "- Depends on both VenueAtmosphere and ArtistPerformance variables. The atmosphere set by the music genre and the quality of the artist's performance directly influence the crowd's excitement level."
   ]
  },
  {
   "cell_type": "code",
   "execution_count": 184,
   "metadata": {},
   "outputs": [],
   "source": [
    "# Node: CrowdExcitement\n",
    "concert_bn.add_node('CrowdExcitement', ['Low', 'Moderate', 'High'], \n",
    "                    {\n",
    "                        ('Dull', 'Poor'): [0.8, 0.1, 0.1],\n",
    "                        ('Dull', 'Average'): [0.7, 0.2, 0.1],\n",
    "                        ('Dull', 'Excellent'): [0.1, 0.5, 0.4],\n",
    "                        ('Energetic', 'Poor'): [0.4, 0.4, 0.2],\n",
    "                        ('Energetic', 'Average'): [0.1, 0.5, 0.4],\n",
    "                        ('Energetic', 'Excellent'): [0.1, 0.2, 0.7],\n",
    "                        ('Electrifying', 'Poor'): [0.4, 0.5, 0.1],\n",
    "                        ('Electrifying', 'Average'): [0.1, 0.4, 0.5],\n",
    "                        ('Electrifying', 'Excellent'): [0.1, 0.1, 0.8]\n",
    "                    },\n",
    "                    parents=['VenueAtmosphere', 'ArtistPerformance'])"
   ]
  },
  {
   "cell_type": "markdown",
   "metadata": {},
   "source": [
    "6. **TicketPrice**:\n",
    "- Represents the price category of the concert tickets, categorized as Cheap, Moderate, or Expensive.\n",
    "- Depends on the ArtistFame variable, as artists with higher fame levels might command higher ticket prices due to increased demand."
   ]
  },
  {
   "cell_type": "code",
   "execution_count": 185,
   "metadata": {},
   "outputs": [],
   "source": [
    "# Node: TicketPrice\n",
    "concert_bn.add_node('TicketPrice', ['Cheap', 'Moderate', 'Expensive'], \n",
    "                    {\n",
    "                        ('Unknown',): [0.8, 0.1, 0.1],\n",
    "                        ('Known',): [0.2, 0.6, 0.2],\n",
    "                        ('Superstar',): [0.1, 0.2, 0.7]\n",
    "                    },\n",
    "                    parents=['ArtistFame'])"
   ]
  },
  {
   "cell_type": "markdown",
   "metadata": {},
   "source": [
    "7. **WeatherCondition**:\n",
    "- Describes the weather condition on the day of the concert, classified as Sunny, Cloudy, or Rainy.\n",
    "- Independent variable, as it's determined by meteorological conditions and doesn't rely on other factors within the Bayesian Network."
   ]
  },
  {
   "cell_type": "code",
   "execution_count": 186,
   "metadata": {},
   "outputs": [],
   "source": [
    "# Node: WeatherCondition\n",
    "concert_bn.add_node('WeatherCondition', ['Sunny', 'Cloudy', 'Rainy'], \n",
    "                    {\n",
    "                        (): [0.4, 0.4, 0.2]\n",
    "                    })"
   ]
  },
  {
   "cell_type": "markdown",
   "metadata": {},
   "source": [
    "8. **TravelTime**:\n",
    "- Indicates the time it takes to travel to the concert venue, categorized as Moderate or Long.\n",
    "- Depends on the WeatherCondition variable, as adverse weather conditions might lead to longer travel times due to traffic or transportation disruptions."
   ]
  },
  {
   "cell_type": "code",
   "execution_count": 187,
   "metadata": {},
   "outputs": [],
   "source": [
    "# Node: TravelTime\n",
    "concert_bn.add_node('TravelTime', ['Moderate', 'Long'], \n",
    "                    {\n",
    "                        ('Sunny',): [0.9, 0.1],\n",
    "                        ('Cloudy',): [0.7, 0.3],\n",
    "                        ('Rainy',): [0.2, 0.8]\n",
    "                    },\n",
    "                    parents=['WeatherCondition'])"
   ]
  },
  {
   "cell_type": "markdown",
   "metadata": {},
   "source": [
    "9. **ConcertExpectations**:\n",
    "- Reflects the attendee's expectations for the concert, categorized as Low, Moderate, or High.\n",
    "- Depends on both ArtistFame and TicketPrice variables. Attendees might have higher expectations for concerts featuring more famous artists or with higher-priced tickets."
   ]
  },
  {
   "cell_type": "code",
   "execution_count": 188,
   "metadata": {},
   "outputs": [],
   "source": [
    "# Node: ConcertExpectations\n",
    "concert_bn.add_node('ConcertExpectations', ['Low', 'Moderate', 'High'], \n",
    "                    {\n",
    "                        ('Unknown', 'Cheap'): [0.8, 0.1, 0.1],\n",
    "                        ('Unknown', 'Moderate'): [0.3, 0.4, 0.3],\n",
    "                        ('Unknown', 'Expensive'): [0.2, 0.2, 0.6],\n",
    "                        ('Known', 'Cheap'): [0.5, 0.4, 0.1],\n",
    "                        ('Known', 'Moderate'): [0.3, 0.5, 0.2],\n",
    "                        ('Known', 'Expensive'): [0.1, 0.2, 0.7],\n",
    "                        ('Superstar', 'Cheap'): [0.1, 0.3, 0.6],\n",
    "                        ('Superstar', 'Moderate'): [0.1, 0.2, 0.7],\n",
    "                        ('Superstar', 'Expensive'): [0.1, 0.1, 0.8]\n",
    "                    },\n",
    "                    parents=['ArtistFame', 'TicketPrice'])"
   ]
  },
  {
   "cell_type": "markdown",
   "metadata": {},
   "source": [
    "10. **OverallEnjoyment**:\n",
    "- Represents the overall enjoyment level experienced by the attendee at the concert, categorized as Low, Moderate, or High.\n",
    "- Depends on the TravelTime, CrowdExcitement, and ConcertExpectations variables. Longer travel times, higher crowd excitement, and meeting or exceeding expectations can lead to higher overall enjoyment levels."
   ]
  },
  {
   "cell_type": "code",
   "execution_count": 189,
   "metadata": {},
   "outputs": [],
   "source": [
    "# Node: OverallEnjoyment (Target Variable)\n",
    "concert_bn.add_node('OverallEnjoyment', ['Low', 'Moderate', 'High'], \n",
    "                    {\n",
    "                        ('Moderate', 'Low', 'Low'): [0.3, 0.6, 0.1],\n",
    "                        ('Moderate', 'Low', 'Moderate'): [0.5, 0.4, 0.1],\n",
    "                        ('Moderate', 'Low', 'High'): [0.8, 0.1, 0.1],\n",
    "                        ('Moderate', 'Moderate', 'Low'): [0.1, 0.3, 0.6],\n",
    "                        ('Moderate', 'Moderate', 'Moderate'): [0.3, 0.3, 0.4],\n",
    "                        ('Moderate', 'Moderate', 'High'): [0.2, 0.5, 0.3],\n",
    "                        ('Moderate', 'High', 'Low'): [0.0, 0.1, 0.9],\n",
    "                        ('Moderate', 'High', 'Moderate'): [0.1, 0.1, 0.8],\n",
    "                        ('Moderate', 'High', 'High'): [0.0, 0.2, 0.8],\n",
    "                        ('Long', 'Low', 'Low'): [0.4, 0.5, 0.1],\n",
    "                        ('Long', 'Low', 'Moderate'): [0.6, 0.3, 0.1],\n",
    "                        ('Long', 'Low', 'High'): [0.9, 0.1, 0.0],\n",
    "                        ('Long', 'Moderate', 'Low'): [0.2, 0.3, 0.5],\n",
    "                        ('Long', 'Moderate', 'Moderate'): [0.3, 0.4, 0.3],\n",
    "                        ('Long', 'Moderate', 'High'): [0.3, 0.5, 0.2],\n",
    "                        ('Long', 'High', 'Low'): [0.1, 0.1, 0.8],\n",
    "                        ('Long', 'High', 'Moderate'): [0.1, 0.2, 0.7],\n",
    "                        ('Long', 'High', 'High'): [0.1, 0.1, 0.8],\n",
    "                    },\n",
    "                    parents=['TravelTime', 'CrowdExcitement', 'ConcertExpectations'])"
   ]
  },
  {
   "cell_type": "markdown",
   "metadata": {},
   "source": [
    "Given the nested dictionaries used to store all elements of the Bayesian Network (BN), we can print `concert_bn.nodes` in a formatted manner to clearly visualize the implemented structure."
   ]
  },
  {
   "cell_type": "code",
   "execution_count": 190,
   "metadata": {},
   "outputs": [
    {
     "name": "stdout",
     "output_type": "stream",
     "text": [
      "{'MusicGenre': {'states': ['Pop', 'Rock', 'Jazz'],\n",
      "                'parents': [],\n",
      "                'cpt': {(): [0.5, 0.3, 0.2]}},\n",
      " 'ArtistFame': {'states': ['Unknown', 'Known', 'Superstar'],\n",
      "                'parents': [],\n",
      "                'cpt': {(): [0.3, 0.5, 0.2]}},\n",
      " 'ArtistPerformance': {'states': ['Poor', 'Average', 'Excellent'],\n",
      "                       'parents': ['ArtistFame'],\n",
      "                       'cpt': {('Unknown',): [0.5, 0.4, 0.1],\n",
      "                               ('Known',): [0.3, 0.5, 0.2],\n",
      "                               ('Superstar',): [0.1, 0.2, 0.7]}},\n",
      " 'VenueAtmosphere': {'states': ['Dull', 'Energetic', 'Electrifying'],\n",
      "                     'parents': ['MusicGenre'],\n",
      "                     'cpt': {('Rock',): [0.1, 0.4, 0.5],\n",
      "                             ('Jazz',): [0.4, 0.2, 0.4],\n",
      "                             ('Pop',): [0.1, 0.6, 0.3]}},\n",
      " 'CrowdExcitement': {'states': ['Low', 'Moderate', 'High'],\n",
      "                     'parents': ['VenueAtmosphere', 'ArtistPerformance'],\n",
      "                     'cpt': {('Dull', 'Poor'): [0.8, 0.1, 0.1],\n",
      "                             ('Dull', 'Average'): [0.7, 0.2, 0.1],\n",
      "                             ('Dull', 'Excellent'): [0.1, 0.5, 0.4],\n",
      "                             ('Energetic', 'Poor'): [0.4, 0.4, 0.2],\n",
      "                             ('Energetic', 'Average'): [0.1, 0.5, 0.4],\n",
      "                             ('Energetic', 'Excellent'): [0.1, 0.2, 0.7],\n",
      "                             ('Electrifying', 'Poor'): [0.4, 0.5, 0.1],\n",
      "                             ('Electrifying', 'Average'): [0.1, 0.4, 0.5],\n",
      "                             ('Electrifying', 'Excellent'): [0.1, 0.1, 0.8]}},\n",
      " 'TicketPrice': {'states': ['Cheap', 'Moderate', 'Expensive'],\n",
      "                 'parents': ['ArtistFame'],\n",
      "                 'cpt': {('Unknown',): [0.8, 0.1, 0.1],\n",
      "                         ('Known',): [0.2, 0.6, 0.2],\n",
      "                         ('Superstar',): [0.1, 0.2, 0.7]}},\n",
      " 'WeatherCondition': {'states': ['Sunny', 'Cloudy', 'Rainy'],\n",
      "                      'parents': [],\n",
      "                      'cpt': {(): [0.4, 0.4, 0.2]}},\n",
      " 'TravelTime': {'states': ['Moderate', 'Long'],\n",
      "                'parents': ['WeatherCondition'],\n",
      "                'cpt': {('Sunny',): [0.9, 0.1],\n",
      "                        ('Cloudy',): [0.7, 0.3],\n",
      "                        ('Rainy',): [0.2, 0.8]}},\n",
      " 'ConcertExpectations': {'states': ['Low', 'Moderate', 'High'],\n",
      "                         'parents': ['ArtistFame', 'TicketPrice'],\n",
      "                         'cpt': {('Unknown', 'Cheap'): [0.8, 0.1, 0.1],\n",
      "                                 ('Unknown', 'Moderate'): [0.3, 0.4, 0.3],\n",
      "                                 ('Unknown', 'Expensive'): [0.2, 0.2, 0.6],\n",
      "                                 ('Known', 'Cheap'): [0.5, 0.4, 0.1],\n",
      "                                 ('Known', 'Moderate'): [0.3, 0.5, 0.2],\n",
      "                                 ('Known', 'Expensive'): [0.1, 0.2, 0.7],\n",
      "                                 ('Superstar', 'Cheap'): [0.1, 0.3, 0.6],\n",
      "                                 ('Superstar', 'Moderate'): [0.1, 0.2, 0.7],\n",
      "                                 ('Superstar', 'Expensive'): [0.1, 0.1, 0.8]}},\n",
      " 'OverallEnjoyment': {'states': ['Low', 'Moderate', 'High'],\n",
      "                      'parents': ['TravelTime',\n",
      "                                  'CrowdExcitement',\n",
      "                                  'ConcertExpectations'],\n",
      "                      'cpt': {('Moderate', 'Low', 'Low'): [0.3, 0.6, 0.1],\n",
      "                              ('Moderate', 'Low', 'Moderate'): [0.5, 0.4, 0.1],\n",
      "                              ('Moderate', 'Low', 'High'): [0.8, 0.1, 0.1],\n",
      "                              ('Moderate', 'Moderate', 'Low'): [0.1, 0.3, 0.6],\n",
      "                              ('Moderate', 'Moderate', 'Moderate'): [0.3,\n",
      "                                                                     0.3,\n",
      "                                                                     0.4],\n",
      "                              ('Moderate', 'Moderate', 'High'): [0.2, 0.5, 0.3],\n",
      "                              ('Moderate', 'High', 'Low'): [0.0, 0.1, 0.9],\n",
      "                              ('Moderate', 'High', 'Moderate'): [0.1, 0.1, 0.8],\n",
      "                              ('Moderate', 'High', 'High'): [0.0, 0.2, 0.8],\n",
      "                              ('Long', 'Low', 'Low'): [0.4, 0.5, 0.1],\n",
      "                              ('Long', 'Low', 'Moderate'): [0.6, 0.3, 0.1],\n",
      "                              ('Long', 'Low', 'High'): [0.9, 0.1, 0.0],\n",
      "                              ('Long', 'Moderate', 'Low'): [0.2, 0.3, 0.5],\n",
      "                              ('Long', 'Moderate', 'Moderate'): [0.3, 0.4, 0.3],\n",
      "                              ('Long', 'Moderate', 'High'): [0.3, 0.5, 0.2],\n",
      "                              ('Long', 'High', 'Low'): [0.1, 0.1, 0.8],\n",
      "                              ('Long', 'High', 'Moderate'): [0.1, 0.2, 0.7],\n",
      "                              ('Long', 'High', 'High'): [0.1, 0.1, 0.8]}}}\n"
     ]
    }
   ],
   "source": [
    "# Print the nodes in the network in a readable format\n",
    "import pprint\n",
    "pprint.pprint(concert_bn.nodes, sort_dicts=False)"
   ]
  },
  {
   "cell_type": "markdown",
   "metadata": {},
   "source": [
    "### Ancestral Sampling\n",
    "To evaluate the capability of performing Ancestral Sampling and test the Bayesian Network, I conducted multiple calls to the `sample_states()` function. By performing a certain number of iterations, we can gather sufficient data to attempt to make assumptions regarding which states are most likely to be reached by the nodes."
   ]
  },
  {
   "cell_type": "code",
   "execution_count": 191,
   "metadata": {},
   "outputs": [],
   "source": [
    "# Initializing a list that will contain the overall enjoyment of each episode\n",
    "OverallEnjoymentList = []\n",
    "\n",
    "# Cycle to perform multiple episodes of sampling\n",
    "for i in range(100):\n",
    "\n",
    "    # Sample states for all nodes\n",
    "    sampled_states, joint_probability = concert_bn.sample_states()\n",
    "\n",
    "    # The commented code can be used to print the sampled states and the joint probability of each episode of Ancestral Sampling\n",
    "    '''\n",
    "    # Print sampled states\n",
    "    for node, state in sampled_states.items():\n",
    "        print(f\"{node}: {state}\")\n",
    "\n",
    "    # Print joint probability\n",
    "    print(f\"Joint Probability: {joint_probability}\\n\")\n",
    "    '''\n",
    "    \n",
    "    # Append the overall enjoyment to the list\n",
    "    OverallEnjoymentList.append(sampled_states['OverallEnjoyment'])"
   ]
  },
  {
   "cell_type": "markdown",
   "metadata": {},
   "source": [
    "After populating the list containing all the states assumed by the variable we have chosen (`OverallEnjoyment`), we can proceed to calculate and visualize some plots depicting the percentage of occurrence of each state. This will allow us to observe which states are more commonly obtained and by what margin.\n",
    "\n",
    "Of course this type of analysis could be performed on every other node of the Bayesian Network as well if needed."
   ]
  },
  {
   "cell_type": "code",
   "execution_count": 192,
   "metadata": {},
   "outputs": [
    {
     "data": {
      "image/png": "[encoded data removed]",
      "text/plain": [
       "<Figure size 1200x600 with 2 Axes>"
      ]
     },
     "metadata": {},
     "output_type": "display_data"
    }
   ],
   "source": [
    "# Import libraries\n",
    "import matplotlib.pyplot as plt\n",
    "from collections import Counter\n",
    "\n",
    "# Count the occurrences of each state\n",
    "state_counts = Counter(OverallEnjoymentList)\n",
    "\n",
    "# Define the states (Low, Moderate, High)\n",
    "states = concert_bn.nodes['OverallEnjoyment']['states']\n",
    "\n",
    "# Initialize counts for each state\n",
    "counts = [state_counts.get(state, 0) for state in states]\n",
    "\n",
    "# Plotting\n",
    "fig, axes = plt.subplots(nrows=1, ncols=2, figsize=(12, 6))\n",
    "\n",
    "# Bar plot\n",
    "axes[0].bar(states, counts)\n",
    "axes[0].set_xlabel('States')\n",
    "axes[0].set_ylabel('Occurrences')\n",
    "axes[0].set_title('Bar Plot', fontsize=16)\n",
    "\n",
    "# Pie chart\n",
    "axes[1].pie(counts, labels=states, autopct='%1.1f%%')\n",
    "axes[1].set_title('Pie Chart', fontsize=16)\n",
    "\n",
    "plt.suptitle('Overall Enjoyment Analysis', fontsize=24)\n",
    "plt.tight_layout()\n",
    "plt.show()"
   ]
  },
  {
   "cell_type": "markdown",
   "metadata": {},
   "source": [
    "### Results and personal considerations\n",
    "Upon reviewing the plots generated from 100 episodes of Ancestral Sampling, it becomes apparent that overall high enjoyment of the concert is the most probable outcome. However, there's still a chance that some might not enjoy it as much, or at all.\n",
    "\n",
    "It is essential to acknowledge that these results are based on conditional probability tables (CPTs) crafted by myself with a limited personal experience. As such, they're more of a proof of concept than anything else. Nonetheless, they still suffice to demonstrate that the implmentation of the `BayesianNetwork` can be rightfully instantiated and effectively sampled multiple times in a row.\n",
    "\n",
    "The use of dictionaries in the implementation enables direct access to nodes and elements of the CPTs, facilitating efficient sampling. Furthermore, this approach offers the potential for repeated sampling to enhance the stability of outcome percentages over multiple runs, thereby improving confidence in the results obtained.\n",
    "\n",
    "In conclusion, while the current findings may not be considered particularly insightful, further refinement of the CPTs and additional sampling iterations may be warranted to obtain more robust and reliable results."
   ]
  }
 ],
 "metadata": {
  "kernelspec": {
   "display_name": "ISPR",
   "language": "python",
   "name": "python3"
  },
  "language_info": {
   "codemirror_mode": {
    "name": "ipython",
    "version": 3
   },
   "file_extension": ".py",
   "mimetype": "text/x-python",
   "name": "python",
   "nbconvert_exporter": "python",
   "pygments_lexer": "ipython3",
   "version": "3.12.2"
  }
 },
 "nbformat": 4,
 "nbformat_minor": 2
}
